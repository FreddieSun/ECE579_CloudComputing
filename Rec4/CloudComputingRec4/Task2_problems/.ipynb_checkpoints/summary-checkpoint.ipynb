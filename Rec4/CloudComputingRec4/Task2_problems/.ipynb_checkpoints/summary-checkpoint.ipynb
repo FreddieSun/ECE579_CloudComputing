{
 "cells": [
  {
   "cell_type": "code",
   "execution_count": 1,
   "metadata": {},
   "outputs": [],
   "source": [
    "import pyspark\n",
    "from pyspark.sql import SparkSession\n",
    "sc = pyspark.SparkContext(appName=\"sparkSQL\")\n",
    "ss = SparkSession(sc)"
   ]
  },
  {
   "cell_type": "code",
   "execution_count": 2,
   "metadata": {},
   "outputs": [],
   "source": [
    "data = \"file:////Users/weijiasun/CloudComputing18/CloudComputingRec4/Task2_problems/kddcup.data_10_percent\"\n",
    "raw = sc.textFile(data).cache()"
   ]
  },
  {
   "cell_type": "markdown",
   "metadata": {},
   "source": [
    "We will create a local dense vector for our KDD dataset."
   ]
  },
  {
   "cell_type": "code",
   "execution_count": 3,
   "metadata": {},
   "outputs": [
    {
     "data": {
      "text/plain": [
       "[u'0,tcp,http,SF,181,5450,0,0,0,0,0,1,0,0,0,0,0,0,0,0,0,0,8,8,0.00,0.00,0.00,0.00,1.00,0.00,0.00,9,9,1.00,0.00,0.11,0.00,0.00,0.00,0.00,0.00,normal.']"
      ]
     },
     "execution_count": 3,
     "metadata": {},
     "output_type": "execute_result"
    }
   ],
   "source": [
    "raw.take(1)"
   ]
  },
  {
   "cell_type": "code",
   "execution_count": 4,
   "metadata": {},
   "outputs": [],
   "source": [
    "import numpy as np\n",
    "\n",
    "def parse_kdd(line):\n",
    "    split = line.split(\",\")\n",
    "    # we will keep just numeric and logical values\n",
    "    # discard any string values\n",
    "    symbolic_indexes = [1,2,3,41]\n",
    "    clean_split = [item for i,item in enumerate(split) if i not in symbolic_indexes]\n",
    "    return np.array([float(x) for x in clean_split])\n",
    "\n",
    "vector_data = raw.map(parse_kdd)"
   ]
  },
  {
   "cell_type": "code",
   "execution_count": 5,
   "metadata": {},
   "outputs": [
    {
     "name": "stdout",
     "output_type": "stream",
     "text": [
      "Duration Statistics:\n",
      " Mean: 47.979\n",
      " St. deviation: 707.746\n",
      " Max value: 58329.0\n",
      " Min value: 0.0\n",
      " Total value count: 494021\n",
      " Number of non-zero values: 12350.0\n"
     ]
    }
   ],
   "source": [
    "from pyspark.mllib.stat import Statistics \n",
    "from math import sqrt \n",
    "\n",
    "# Compute column summary statistics.\n",
    "summary = Statistics.colStats(vector_data)\n",
    "\n",
    "print \"Duration Statistics:\"\n",
    "print \" Mean: {}\".format(round(summary.mean()[0],3))\n",
    "print \" St. deviation: {}\".format(round(sqrt(summary.variance()[0]),3))\n",
    "print \" Max value: {}\".format(round(summary.max()[0],3))\n",
    "print \" Min value: {}\".format(round(summary.min()[0],3))\n",
    "print \" Total value count: {}\".format(summary.count())\n",
    "print \" Number of non-zero values: {}\".format(summary.numNonzeros()[0])\n"
   ]
  },
  {
   "cell_type": "markdown",
   "metadata": {},
   "source": [
    "We are interested in preparing a classification system for attack/no attack or different attack types. This requires us to use label along with summary statistics and analyse data properly. "
   ]
  },
  {
   "cell_type": "code",
   "execution_count": 6,
   "metadata": {},
   "outputs": [],
   "source": [
    "# Create a function to return a tuple with label as its zeroth index \n",
    "# and corresponding summary statistic as its first index. \n",
    "def parse_kdd_label(line):\n",
    "    split = line.split(\",\")\n",
    "    # we will keep just numeric and logical values\n",
    "    # discard any string values"
   ]
  },
  {
   "cell_type": "code",
   "execution_count": 7,
   "metadata": {},
   "outputs": [],
   "source": [
    "def summary_by_label(raw_data, label):\n",
    "    label_vector_data = raw_data.map(parse_kdd_label).filter(lambda x: x[0]==label)\n",
    "    return Statistics.colStats(label_vector_data.values())"
   ]
  },
  {
   "cell_type": "code",
   "execution_count": 8,
   "metadata": {},
   "outputs": [],
   "source": [
    "label_list = [\"back.\",\"buffer_overflow.\",\"ftp_write.\",\"guess_passwd.\",\n",
    "              \"imap.\",\"ipsweep.\",\"land.\",\"loadmodule.\",\"multihop.\",\n",
    "              \"neptune.\",\"nmap.\",\"normal.\",\"perl.\",\"phf.\",\"pod.\",\"portsweep.\",\n",
    "              \"rootkit.\",\"satan.\",\"smurf.\",\"spy.\",\"teardrop.\",\"warezclient.\",\n",
    "              \"warezmaster.\"]"
   ]
  },
  {
   "cell_type": "code",
   "execution_count": 9,
   "metadata": {},
   "outputs": [],
   "source": [
    "label_summary_dict = {}\n",
    "# Create a dictionary of key = label_list elements, value = corresponding summary statistics "
   ]
  },
  {
   "cell_type": "code",
   "execution_count": 10,
   "metadata": {},
   "outputs": [
    {
     "ename": "KeyError",
     "evalue": "'smurf.'",
     "output_type": "error",
     "traceback": [
      "\u001b[0;31m---------------------------------------------------------------------------\u001b[0m",
      "\u001b[0;31mKeyError\u001b[0m                                  Traceback (most recent call last)",
      "\u001b[0;32m<ipython-input-10-68b6d914bcb8>\u001b[0m in \u001b[0;36m<module>\u001b[0;34m()\u001b[0m\n\u001b[0;32m----> 1\u001b[0;31m \u001b[0;32mprint\u001b[0m \u001b[0mlabel_summary_dict\u001b[0m\u001b[0;34m[\u001b[0m\u001b[0;34m'smurf.'\u001b[0m\u001b[0;34m]\u001b[0m\u001b[0;34m\u001b[0m\u001b[0m\n\u001b[0m",
      "\u001b[0;31mKeyError\u001b[0m: 'smurf.'"
     ]
    }
   ],
   "source": [
    "print label_summary_dict['smurf.']"
   ]
  },
  {
   "cell_type": "code",
   "execution_count": null,
   "metadata": {
    "collapsed": true
   },
   "outputs": [],
   "source": []
  }
 ],
 "metadata": {
  "kernelspec": {
   "display_name": "Python 2",
   "language": "python",
   "name": "python2"
  },
  "language_info": {
   "codemirror_mode": {
    "name": "ipython",
    "version": 2
   },
   "file_extension": ".py",
   "mimetype": "text/x-python",
   "name": "python",
   "nbconvert_exporter": "python",
   "pygments_lexer": "ipython2",
   "version": "2.7.15"
  }
 },
 "nbformat": 4,
 "nbformat_minor": 2
}
