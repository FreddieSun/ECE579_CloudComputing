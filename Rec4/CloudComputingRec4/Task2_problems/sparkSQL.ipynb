{
 "cells": [
  {
   "cell_type": "code",
   "execution_count": 20,
   "metadata": {},
   "outputs": [],
   "source": [
    "sc.stop()\n",
    "import pyspark\n",
    "from pyspark.sql import SparkSession\n",
    "sc = pyspark.SparkContext(appName=\"sparkSQL\")\n",
    "ss = SparkSession(sc)"
   ]
  },
  {
   "cell_type": "code",
   "execution_count": 21,
   "metadata": {},
   "outputs": [],
   "source": [
    "data = \"file:////Users/weijiasun/CloudComputing18/CloudComputingRec4/Task2_problems/kddcup.data_10_percent\"\n",
    "raw = sc.textFile(data).cache()"
   ]
  },
  {
   "cell_type": "markdown",
   "metadata": {},
   "source": [
    "# DataFrame\n",
    "A DataFrame is a Dataset organized into named columns. It is conceptually equivalent to a table in a relational database or a data frame in R/Python, but with richer optimizations under the hood. DataFrames can be constructed from a wide array of sources such as: structured data files, tables in Hive, external databases, or existing RDDs\n",
    "\n",
    "We want to convert our raw data into a table. But first we have to parse it and assign desired rows and headers, something like csv format. "
   ]
  },
  {
   "cell_type": "code",
   "execution_count": 22,
   "metadata": {},
   "outputs": [],
   "source": [
    "from pyspark.sql import SQLContext\n",
    "sqlContext = SQLContext(sc)\n",
    "from pyspark.sql import Row"
   ]
  },
  {
   "cell_type": "code",
   "execution_count": 23,
   "metadata": {},
   "outputs": [],
   "source": [
    "csv_data = raw.map(lambda l: l.split(\",\"))\n",
    "row_data = csv_data.map(lambda p: Row(\n",
    "    duration=int(p[0]), \n",
    "    protocol_type=p[1],\n",
    "    service=p[2],\n",
    "    flag=p[3],\n",
    "    src_bytes=int(p[4]),\n",
    "    dst_bytes=int(p[5])\n",
    "    )\n",
    ")"
   ]
  },
  {
   "cell_type": "markdown",
   "metadata": {},
   "source": [
    "Once we have our RDD of Row we can infer and get a schema. We can operate on this schema with SQL queries."
   ]
  },
  {
   "cell_type": "code",
   "execution_count": 24,
   "metadata": {},
   "outputs": [],
   "source": [
    "kdd_df = sqlContext.createDataFrame(row_data)\n",
    "kdd_df.registerTempTable(\"KDDdata\")"
   ]
  },
  {
   "cell_type": "code",
   "execution_count": 25,
   "metadata": {},
   "outputs": [
    {
     "name": "stdout",
     "output_type": "stream",
     "text": [
      "+--------+---------+\n",
      "|duration|dst_bytes|\n",
      "+--------+---------+\n",
      "|    5057|        0|\n",
      "|    5059|        0|\n",
      "|    5051|        0|\n",
      "|    5056|        0|\n",
      "|    5051|        0|\n",
      "|    5039|        0|\n",
      "|    5062|        0|\n",
      "|    5041|        0|\n",
      "|    5056|        0|\n",
      "|    5064|        0|\n",
      "+--------+---------+\n",
      "only showing top 10 rows\n",
      "\n"
     ]
    }
   ],
   "source": [
    "# Select tcp network interactions with more than 2 second duration and no transfer from destination\n",
    "tcp_interactions = sqlContext.sql(\"SELECT duration, dst_bytes FROM KDDdata WHERE protocol_type = 'tcp' AND duration > 2000 AND dst_bytes = 0\")\n",
    "tcp_interactions.show(10)"
   ]
  },
  {
   "cell_type": "code",
   "execution_count": 26,
   "metadata": {},
   "outputs": [
    {
     "data": {
      "text/plain": [
       "DataFrame[protocol_type: string, duration: bigint, dst_bytes: bigint]"
      ]
     },
     "execution_count": 26,
     "metadata": {},
     "output_type": "execute_result"
    }
   ],
   "source": [
    "# Complete the query to filter data with duration > 2000, dst_bytes = 0. \n",
    "# Then group the filtered elements by protocol_type and show the total count in each group.\n",
    "# Refer - https://spark.apache.org/docs/latest/sql-programming-guide.html#dataframegroupby-retains-grouping-columns\n",
    "\n",
    "kdd_df.select(\"protocol_type\", \"duration\", \"dst_bytes\").filter(kdd_df.duration>2000)#.more query..."
   ]
  },
  {
   "cell_type": "code",
   "execution_count": 27,
   "metadata": {},
   "outputs": [
    {
     "data": {
      "text/plain": [
       "'\\nWrite a query to select label, \\ngroup it and then count total elements\\nin that group\\n'"
      ]
     },
     "execution_count": 27,
     "metadata": {},
     "output_type": "execute_result"
    }
   ],
   "source": [
    "def transform_label(label):\n",
    "    '''\n",
    "    Create a function to parse input label\n",
    "    such that if input label is not normal \n",
    "    then it is an attack\n",
    "    '''\n",
    "    \n",
    "\n",
    "\n",
    "row_labeled_data = csv_data.map(lambda p: Row(\n",
    "    duration=int(p[0]), \n",
    "    protocol_type=p[1],\n",
    "    service=p[2],\n",
    "    flag=p[3],\n",
    "    src_bytes=int(p[4]),\n",
    "    dst_bytes=int(p[5]),\n",
    "    label=transform_label(p[41])\n",
    "    )\n",
    ")\n",
    "kdd_labeled = sqlContext.createDataFrame(row_labeled_data, samplingRatio=0.5)\n",
    "\n",
    "'''\n",
    "Write a query to select label, \n",
    "group it and then count total elements\n",
    "in that group\n",
    "'''\n",
    "# query"
   ]
  },
  {
   "cell_type": "markdown",
   "metadata": {},
   "source": [
    "We can use other dataframes for filtering our data efficiently."
   ]
  },
  {
   "cell_type": "code",
   "execution_count": 28,
   "metadata": {},
   "outputs": [
    {
     "name": "stdout",
     "output_type": "stream",
     "text": [
      "+-----+-------------+---------------+------+\n",
      "|label|protocol_type|(dst_bytes = 0)| count|\n",
      "+-----+-------------+---------------+------+\n",
      "| null|          tcp|          false| 70169|\n",
      "| null|          udp|          false| 15594|\n",
      "| null|          tcp|           true|119896|\n",
      "| null|          udp|           true|  4760|\n",
      "| null|         icmp|           true|283602|\n",
      "+-----+-------------+---------------+------+\n",
      "\n"
     ]
    }
   ],
   "source": [
    "kdd_labeled.select(\"label\", \"protocol_type\", \"dst_bytes\").groupBy(\"label\", \"protocol_type\", kdd_labeled.dst_bytes==0).count().show()"
   ]
  },
  {
   "cell_type": "markdown",
   "metadata": {},
   "source": [
    "It can be inferred that we have large number of tcp attacks with zero data transfer = 110583 as compared to normal tcp = 9313.\n",
    "\n",
    "This type of analysis is known as [exploratory data analysis](http://www.stat.cmu.edu/~hseltman/309/Book/chapter4.pdf)"
   ]
  },
  {
   "cell_type": "code",
   "execution_count": null,
   "metadata": {},
   "outputs": [],
   "source": []
  }
 ],
 "metadata": {
  "kernelspec": {
   "display_name": "Python 2",
   "language": "python",
   "name": "python2"
  },
  "language_info": {
   "codemirror_mode": {
    "name": "ipython",
    "version": 2
   },
   "file_extension": ".py",
   "mimetype": "text/x-python",
   "name": "python",
   "nbconvert_exporter": "python",
   "pygments_lexer": "ipython2",
   "version": "2.7.15"
  }
 },
 "nbformat": 4,
 "nbformat_minor": 2
}
